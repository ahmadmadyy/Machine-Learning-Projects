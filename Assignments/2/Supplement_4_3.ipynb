{
 "cells": [
  {
   "cell_type": "markdown",
   "metadata": {
    "id": "5f1ZvSpfmsWL"
   },
   "source": [
    "## Supplement 4: Classification"
   ]
  },
  {
   "cell_type": "code",
   "execution_count": 1,
   "metadata": {
    "id": "prWVyOFWmsWM"
   },
   "outputs": [],
   "source": [
    "%matplotlib inline\n",
    "import numpy as np\n",
    "import pandas as pd"
   ]
  },
  {
   "cell_type": "markdown",
   "metadata": {
    "id": "pP7AB6lJmsWN"
   },
   "source": [
    "### 4.3 Programming Task: Song popularity prediction using Logistic regression\n",
    "The datasets __train-songs.csv__ and __test-songs.csv__ contain audio properties of various tracks collected from the music streaming site Spotify.\n",
    "\n",
    "\n",
    "The goal of the task is to train a logistic regression classifier that predicts if\n",
    "a given track is popular or not.\n",
    "The dataset consists of 9 columns.\n",
    "The first 8 columns contain various audio properties\n",
    "which are provided as input features to the model.\n",
    "The last column contains the class labels given by 0(not popular) and 1(popular).\n",
    "\n",
    "i\\. Implement the loss function and its gradient for the logistic regression model.\n"
   ]
  },
  {
   "cell_type": "code",
   "execution_count": 2,
   "metadata": {
    "id": "MEgp2nlMmsWN"
   },
   "outputs": [],
   "source": [
    "\n",
    "def sigmoid(z):\n",
    "    #Compute the sigmoid function\n",
    "    return 1 / (1 + np.exp(-z))\n",
    "\n",
    "def compute_loss_and_gradient(X, y, model_parameters):\n",
    "    \"\"\"\n",
    "    Compute the binary cross-entropy loss and its gradient.\n",
    "\n",
    "    Parameters:\n",
    "    - X: np.ndarray, shape (m, n), input data (m examples, n features)\n",
    "    - y: np.ndarray, shape (m,), true labels (0 or 1)\n",
    "    - model_parameters: np.ndarray, shape (n,), model parameters\n",
    "\n",
    "    Returns:\n",
    "    - loss: float, the binary cross-entropy loss\n",
    "    - gradient: np.ndarray, shape (n,), the gradient of the loss with respect to model_parameters\n",
    "    \"\"\"\n",
    "    m = X.shape[0]  # Number of examples\n",
    "\n",
    "    # Compute predictions\n",
    "    z = np.dot(X, model_parameters)\n",
    "    y_pred = sigmoid(z)\n",
    "\n",
    "    # Compute the binary cross-entropy loss\n",
    "    loss = -np.mean(y * np.log(y_pred + 1e-15) + (1 - y) * np.log(1 - y_pred + 1e-15))  #Adds a small value (1e-15) to avoid log of zero errors.\n",
    "\n",
    "    # Compute the gradient\n",
    "    gradient = np.dot(X.T, (y_pred - y)) / m\n",
    "\n",
    "    return loss, gradient\n"
   ]
  },
  {
   "cell_type": "markdown",
   "metadata": {
    "id": "qyCWMZsOmsWN"
   },
   "source": [
    "   ii\\. Using the gradient descent algorithm, train the logistic regression model.\n",
    "You may reuse/modify the gradient descent algorithm from the previous supplement.\n",
    "\n",
    "\n"
   ]
  },
  {
   "cell_type": "code",
   "execution_count": 3,
   "metadata": {
    "id": "16QrO00fmsWN"
   },
   "outputs": [],
   "source": [
    "def train_logistic_regression(X, y, learning_rate=0.01, epochs=1000):\n",
    "  # Train a logistic regression model using gradient descent.\n",
    "    m, n = X.shape\n",
    "    model_parameters = np.zeros(n)  # Initialize parameters\n",
    "    losses = []  # To store the loss at each epoch\n",
    "\n",
    "    for epoch in range(epochs):\n",
    "        # Compute loss and gradient\n",
    "        loss, gradient = compute_loss_and_gradient(X, y, model_parameters)\n",
    "\n",
    "        # Update parameters\n",
    "        model_parameters -= learning_rate * gradient\n",
    "\n",
    "        # Store loss\n",
    "        losses.append(loss)\n",
    "\n",
    "\n",
    "    return model_parameters, losses\n",
    "\n",
    "\n",
    "\n"
   ]
  },
  {
   "cell_type": "markdown",
   "metadata": {
    "id": "Mv0IA_o9msWN"
   },
   "source": [
    "iii\\. Using model predictions on __test-songs.csv__, build the confusion\n",
    "matrix and subsequently calculate the precision, recall, and F1-score for a threshold of 0.4.\n"
   ]
  },
  {
   "cell_type": "code",
   "execution_count": 4,
   "metadata": {
    "colab": {
     "base_uri": "https://localhost:8080/"
    },
    "id": "NlT6c5cPmsWN",
    "outputId": "fe3f2c34-2226-4ce7-8483-1eda0ddde32b"
   },
   "outputs": [
    {
     "name": "stdout",
     "output_type": "stream",
     "text": [
      "Confusion Matrix:\n",
      "TP: 294, FP: 47, TN: 953, FN: 706\n",
      "Precision: 0.8622\n",
      "Recall: 0.2940\n",
      "F1-Score: 0.4385\n"
     ]
    }
   ],
   "source": [
    "import pandas as pd\n",
    "\n",
    "def confusion_matrix_metrics(y_true, y_pred, threshold=0.4):\n",
    "    \"\"\"\n",
    "    Compute confusion matrix, precision, recall, and F1-score.\n",
    "\n",
    "    Parameters:\n",
    "    - y_true: np.ndarray, true labels (0 or 1)\n",
    "    - y_pred: np.ndarray, predicted probabilities\n",
    "    - threshold: float, threshold for classification\n",
    "\n",
    "    Returns:\n",
    "    - metrics: dict, containing TP, FP, TN, FN, precision, recall, F1-score\n",
    "    \"\"\"\n",
    "    # Convert probabilities to binary predictions\n",
    "    y_pred_binary = (y_pred >= threshold).astype(int)\n",
    "\n",
    "    # Confusion matrix components\n",
    "    TP = np.sum((y_true == 1) & (y_pred_binary == 1))\n",
    "    FP = np.sum((y_true == 0) & (y_pred_binary == 1))\n",
    "    TN = np.sum((y_true == 0) & (y_pred_binary == 0))\n",
    "    FN = np.sum((y_true == 1) & (y_pred_binary == 0))\n",
    "\n",
    "    # Precision, Recall, F1-score\n",
    "    precision = TP / (TP + FP) if (TP + FP) > 0 else 0\n",
    "    recall = TP / (TP + FN) if (TP + FN) > 0 else 0\n",
    "    f1_score = 2 * (precision * recall) / (precision + recall) if (precision + recall) > 0 else 0\n",
    "\n",
    "    metrics = {\n",
    "        'TP': TP,\n",
    "        'FP': FP,\n",
    "        'TN': TN,\n",
    "        'FN': FN,\n",
    "        'precision': precision,\n",
    "        'recall': recall,\n",
    "        'f1_score': f1_score\n",
    "    }\n",
    "    return metrics\n",
    "\n",
    "# Load test data\n",
    "test_data = pd.read_csv(\"test-songs.csv\")\n",
    "X_test = test_data.iloc[:, :-1].values  # last column is the label\n",
    "y_test = test_data.iloc[:, -1].values\n",
    "\n",
    "#train model\n",
    "model_parameters, losses = train_logistic_regression(X_test, y_test)\n",
    "\n",
    "# Predict probabilities using trained model\n",
    "y_test_pred_probs = sigmoid(np.dot(X_test, model_parameters))\n",
    "\n",
    "# Compute metrics\n",
    "threshold = 0.4\n",
    "metrics = confusion_matrix_metrics(y_test, y_test_pred_probs, threshold)\n",
    "\n",
    "# Print metrics\n",
    "print(\"Confusion Matrix:\")\n",
    "print(f\"TP: {metrics['TP']}, FP: {metrics['FP']}, TN: {metrics['TN']}, FN: {metrics['FN']}\")\n",
    "print(f\"Precision: {metrics['precision']:.4f}\")\n",
    "print(f\"Recall: {metrics['recall']:.4f}\")\n",
    "print(f\"F1-Score: {metrics['f1_score']:.4f}\")\n",
    "\n",
    "\n"
   ]
  },
  {
   "cell_type": "markdown",
   "metadata": {
    "id": "ve5PXyvCmsWN"
   },
   "source": [
    "iv\\. Plot the ROC curve for the model and calculate the AUC metric of your model.\n"
   ]
  },
  {
   "cell_type": "code",
   "execution_count": 5,
   "metadata": {
    "colab": {
     "base_uri": "https://localhost:8080/",
     "height": 582
    },
    "id": "H3lgk-btmsWO",
    "outputId": "eb9f3c3c-024f-4f9e-eddf-68e8f2d33fca"
   },
   "outputs": [
    {
     "data": {
      "image/png": "[encoded data removed]",
      "text/plain": [
       "<Figure size 800x600 with 1 Axes>"
      ]
     },
     "metadata": {},
     "output_type": "display_data"
    },
    {
     "name": "stdout",
     "output_type": "stream",
     "text": [
      "AUC of the model: 0.8429\n"
     ]
    }
   ],
   "source": [
    "from sklearn.metrics import roc_curve, auc\n",
    "import matplotlib.pyplot as plt\n",
    "\n",
    "# Calculate prediction probabilities using the sigmoid function\n",
    "y_test_pred_probs = sigmoid(np.dot(X_test, model_parameters))\n",
    "\n",
    "# Generate the ROC curve for evaluating model performance\n",
    "fpr, tpr, thresholds = roc_curve(y_test, y_test_pred_probs)\n",
    "\n",
    "# Compute AUC\n",
    "roc_auc = auc(fpr, tpr)\n",
    "\n",
    "# Plot ROC curve\n",
    "plt.figure(figsize=(8, 6))\n",
    "plt.plot(fpr, tpr, color='blue', label=f'ROC Curve (AUC = {roc_auc:.4f})')\n",
    "plt.plot([0, 1], [0, 1], color='red', linestyle='--', label='Random Guess')\n",
    "plt.xlabel('False Positive Rate (FPR)')\n",
    "plt.ylabel('True Positive Rate (TPR)')\n",
    "plt.title('Receiver Operating Characteristic (ROC) Curve')\n",
    "plt.legend(loc='lower right')\n",
    "plt.grid()\n",
    "plt.show()\n",
    "\n",
    "print(f\"AUC of the model: {roc_auc:.4f}\")\n",
    "\n"
   ]
  },
  {
   "cell_type": "markdown",
   "metadata": {
    "id": "JhYPoHAHmsWO"
   },
   "source": [
    "v\\. Consider the simpler models given below.The input $\\mathbf{x}$ in these models takes only 4 input features from the given dataset.\n",
    "\n",
    "- Model A $~~~~~~~~~~~$   $\\mathbf{x}$ = $[$ danceability, key, valence, tempo $]^\\top$\n",
    "- Model B $~~~~~~~~~~~$  $\\mathbf{x}$ = $[$ danceability, loudness, acousticness, instrumentalness $]^\\top$\n",
    "- Model C $~~~~~~~~~~~$ $\\mathbf{x}$ = $[$ key, liveness, valence, tempo $]^\\top$\n",
    "\n",
    "Train these models using your logistic regression implementation and determine the best performing model using the AUC metric."
   ]
  },
  {
   "cell_type": "code",
   "execution_count": 6,
   "metadata": {
    "colab": {
     "base_uri": "https://localhost:8080/"
    },
    "id": "slDNjh0xmsWO",
    "outputId": "546c403e-b5b6-4673-8c11-a617929196e4"
   },
   "outputs": [
    {
     "name": "stderr",
     "output_type": "stream",
     "text": [
      "C:\\Users\\Khaled\\AppData\\Local\\Temp\\ipykernel_13912\\2093163532.py:3: RuntimeWarning: overflow encountered in exp\n",
      "  return 1 / (1 + np.exp(-z))\n",
      "C:\\Users\\Khaled\\AppData\\Local\\Temp\\ipykernel_13912\\2093163532.py:3: RuntimeWarning: overflow encountered in exp\n",
      "  return 1 / (1 + np.exp(-z))\n"
     ]
    },
    {
     "name": "stdout",
     "output_type": "stream",
     "text": [
      "Model A AUC: 0.5051\n",
      "Model B AUC: 0.8741\n",
      "Model C AUC: 0.5357\n",
      "The best-performing model is Model B with an AUC of 0.8741.\n"
     ]
    }
   ],
   "source": [
    "from sklearn.model_selection import train_test_split\n",
    "\n",
    "dataset = test_data\n",
    "\n",
    "\n",
    "# Specify input features for models A, B, and C\n",
    "features_A = ['danceability', 'key', 'valence', 'tempo']\n",
    "features_B = ['danceability', 'loudness', 'acousticness', 'instrumentalness']\n",
    "features_C = ['key', 'liveness', 'valence', 'tempo']\n",
    "\n",
    "# Split dataset into training and testing sets\n",
    "X = dataset.drop(columns=['popular'])\n",
    "y = dataset['popular']\n",
    "\n",
    "X_train, X_test, y_train, y_test = train_test_split(X, y, test_size=0.2, random_state=42)\n",
    "\n",
    "# Function to train and evaluate a model\n",
    "def train_and_evaluate_model(selected_features):\n",
    "    # Select features\n",
    "    X_train_subset = X_train[selected_features].values\n",
    "    X_test_subset = X_test[selected_features].values\n",
    "\n",
    "    # Fit the logistic regression model to the training data\n",
    "    model_parameters, _ = train_logistic_regression(X_train_subset, y_train, learning_rate=0.1, epochs=1000)\n",
    "\n",
    "    # Predict probabilities on the test set\n",
    "    y_test_pred_probs = sigmoid(np.dot(X_test_subset, model_parameters))\n",
    "\n",
    "    # Generate the ROC curve for evaluating model performance and AUC\n",
    "    fpr, tpr, _ = roc_curve(y_test, y_test_pred_probs)\n",
    "    auc_score = auc(fpr, tpr)\n",
    "\n",
    "    return auc_score\n",
    "\n",
    "# Compare models A, B, and C using their respective features\n",
    "auc_A = train_and_evaluate_model(features_A)\n",
    "auc_B = train_and_evaluate_model(features_B)\n",
    "auc_C = train_and_evaluate_model(features_C)\n",
    "\n",
    "# Print results\n",
    "print(f\"Model A AUC: {auc_A:.4f}\")\n",
    "print(f\"Model B AUC: {auc_B:.4f}\")\n",
    "print(f\"Model C AUC: {auc_C:.4f}\")\n",
    "\n",
    "# Determine the best model\n",
    "best_model = max([(auc_A, \"Model A\"), (auc_B, \"Model B\"), (auc_C, \"Model C\")], key=lambda x: x[0])\n",
    "print(f\"The best-performing model is {best_model[1]} with an AUC of {best_model[0]:.4f}.\")\n"
   ]
  }
 ],
 "metadata": {
  "colab": {
   "provenance": []
  },
  "kernel_info": {
   "name": "python3"
  },
  "kernelspec": {
   "display_name": "Python 3 (ipykernel)",
   "language": "python",
   "name": "python3"
  },
  "language_info": {
   "codemirror_mode": {
    "name": "ipython",
    "version": 3
   },
   "file_extension": ".py",
   "mimetype": "text/x-python",
   "name": "python",
   "nbconvert_exporter": "python",
   "pygments_lexer": "ipython3",
   "version": "3.8.1"
  },
  "nteract": {
   "version": "0.15.0"
  },
  "vscode": {
   "interpreter": {
    "hash": "460131dc2cda6b57dcc8b29ba379d1f6a9e911b276d5c377c45df622778462a6"
   }
  }
 },
 "nbformat": 4,
 "nbformat_minor": 4
}
