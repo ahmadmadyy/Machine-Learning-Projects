{
 "cells": [
  {
   "attachments": {},
   "cell_type": "markdown",
   "metadata": {},
   "source": [
    "## Supplement 6: Decision Trees and Random Forest"
   ]
  },
  {
   "cell_type": "code",
   "execution_count": 1,
   "metadata": {},
   "outputs": [],
   "source": [
    "%matplotlib inline\n",
    "import numpy as np\n",
    "import pandas as pd\n",
    "from sklearn.tree import DecisionTreeClassifier\n",
    "from sklearn.ensemble import RandomForestClassifier\n",
    "from sklearn import tree\n",
    "from scipy.stats import mode"
   ]
  },
  {
   "attachments": {},
   "cell_type": "markdown",
   "metadata": {},
   "source": [
    "### 6.3 Programming Task: Song popularity prediction using Random Forest\n",
    "The goal of this task is to train a random forest model that predicts the song popularity using the datasets already provided in task 4.3\n",
    " "
   ]
  },
  {
   "cell_type": "code",
   "execution_count": 2,
   "metadata": {},
   "outputs": [
    {
     "name": "stdout",
     "output_type": "stream",
     "text": [
      "   danceability  key  loudness  acousticness  instrumentalness  liveness  \\\n",
      "0         0.391    8    -9.532         0.478          0.000006    0.1160   \n",
      "1         0.628    1   -13.834         0.156          0.010400    0.0836   \n",
      "2         0.613    3   -22.789         0.864          0.000000    0.2690   \n",
      "3         0.504    2    -5.931         0.414          0.000000    0.0845   \n",
      "4         0.698    9    -3.840         0.101          0.000000    0.1070   \n",
      "\n",
      "   valence    tempo  popular  \n",
      "0    0.138  105.593      0.0  \n",
      "1    0.761  102.974      0.0  \n",
      "2    0.371   75.104      0.0  \n",
      "3    0.163  135.927      1.0  \n",
      "4    0.931  124.042      1.0  \n",
      "   danceability  key  loudness  acousticness  instrumentalness  liveness  \\\n",
      "0         0.652    9    -7.319        0.7250          0.000002     0.189   \n",
      "1         0.500   11    -7.996        0.0024          0.000000     0.133   \n",
      "2         0.422   10    -7.215        0.1090          0.000000     0.722   \n",
      "3         0.708    5    -5.426        0.0136          0.002210     0.118   \n",
      "4         0.657    9    -8.351        0.7050          0.000009     0.084   \n",
      "\n",
      "   valence    tempo  popular  \n",
      "0    0.354  131.955      1.0  \n",
      "1    0.515   77.383      0.0  \n",
      "2    0.331   74.980      1.0  \n",
      "3    0.734  122.006      1.0  \n",
      "4    0.381  141.735      1.0  \n"
     ]
    }
   ],
   "source": [
    "# Load data\n",
    "train_data = pd.read_csv('train-songs.csv')\n",
    "test_data = pd.read_csv('test-songs.csv')\n",
    "\n",
    "print(train_data.head())\n",
    "print(test_data.head())\n",
    "\n",
    "label='popular'\n",
    "\n",
    "train_X = train_data.drop(columns=[label])\n",
    "train_y = train_data[label]\n",
    "\n",
    "test_X = test_data.drop(columns=[label])\n",
    "test_y = test_data[label]"
   ]
  },
  {
   "attachments": {},
   "cell_type": "markdown",
   "metadata": {},
   "source": [
    "   i\\. Implement a function that draws a bootstrap sample of size N from the train dataset, where N can be specified by the user.\n",
    "\n",
    "\n"
   ]
  },
  {
   "cell_type": "code",
   "execution_count": 3,
   "metadata": {},
   "outputs": [],
   "source": [
    "def generate_bootstrap(train_X, train_y, N):\n",
    "    \n",
    "    # Combine train_X and train_y to ensure sampling consistency\n",
    "    combined_data = train_X.copy()\n",
    "    combined_data['label'] = train_y\n",
    "\n",
    "    # Draw bootstrap sample with replacement\n",
    "    bootstrap_sample = combined_data.sample(n=N, replace=True, random_state=np.random.randint(0, 10000))\n",
    "\n",
    "    # Split back into features and target\n",
    "    bootstrap_X = bootstrap_sample.drop(columns=['label'])\n",
    "    bootstrap_y = bootstrap_sample['label']\n",
    "\n",
    "    return bootstrap_X, bootstrap_y"
   ]
  },
  {
   "attachments": {},
   "cell_type": "markdown",
   "metadata": {},
   "source": [
    "   ii\\. Complete the implementation of the random forest algorithm. For this task you may use the DecisionTreeClassifier from the scikit-learn library. The other parts of the random forest algorithm must be implemented using only Scipy/Numpy."
   ]
  },
  {
   "cell_type": "code",
   "execution_count": 4,
   "metadata": {},
   "outputs": [],
   "source": [
    "class RandomForest:\n",
    "    \n",
    "    def __init__(self, n_trees, max_features, max_samples, min_node_size, max_depth):\n",
    "        \n",
    "        self.n_trees = n_trees\n",
    "        self.max_features = max_features\n",
    "        self.max_samples = max_samples\n",
    "        self.min_node_size = min_node_size\n",
    "        self.max_depth = max_depth\n",
    "        self.trees = []  \n",
    "\n",
    "    def train(self, train_X, train_y):\n",
    "        \n",
    "        n_samples, n_features = train_X.shape\n",
    "\n",
    "        for i in range(self.n_trees):\n",
    "            # Bootstrap sampling\n",
    "            bootstrap_indices = np.random.choice(n_samples, size=self.max_samples, replace=True)\n",
    "            bootstrap_X = train_X.iloc[bootstrap_indices]\n",
    "            bootstrap_y = train_y.iloc[bootstrap_indices]\n",
    "\n",
    "\n",
    "            # Random feature selection\n",
    "            feature_indices = np.random.choice(n_features, size=self.max_features, replace=False)\n",
    "            sampled_X = bootstrap_X.iloc[:, feature_indices]\n",
    "\n",
    "            # Train a decision tree on the bootstrap sample\n",
    "            # Train a decision tree on the bootstrap sample\n",
    "            tree = DecisionTreeClassifier(\n",
    "                max_depth=self.max_depth,\n",
    "                min_samples_split=max(2, self.min_node_size)  # Ensure a valid minimum value\n",
    "            )\n",
    "            tree.fit(sampled_X, bootstrap_y)\n",
    "\n",
    "            tree.fit(sampled_X, bootstrap_y)\n",
    "\n",
    "            # Save the tree and the selected features\n",
    "            self.trees.append((tree, feature_indices))\n",
    "\n",
    "    def predict(self, test_X):\n",
    "        \n",
    "        predictions = []\n",
    "\n",
    "        for tree, feature_indices in self.trees:\n",
    "            # Predict using the weak classifier on the subset of features\n",
    "            predictions.append(tree.predict(test_X.iloc[:, feature_indices]))\n",
    "\n",
    "        # Majority voting\n",
    "        predictions = np.array(predictions)\n",
    "        final_predictions = mode(predictions, axis=0).mode[0]\n",
    "\n",
    "        return final_predictions"
   ]
  },
  {
   "attachments": {},
   "cell_type": "markdown",
   "metadata": {},
   "source": [
    "iii\\. Train the model for the dataset from train-songs.csv using the parameters given below.\n",
    "| Parameter| Value|\n",
    "|----------|------|\n",
    "Number of trees|100|\n",
    "Maximum features per tree|2|\n",
    "Bootstrap sample size|20000|\n",
    "Minimum node size|1|\n",
    "Maximum tree depth|10|\n",
    "\n",
    "\n",
    "Note: The bootstrap sample size is the same as train dataset size in this task.\n"
   ]
  },
  {
   "cell_type": "code",
   "execution_count": 5,
   "metadata": {},
   "outputs": [],
   "source": [
    "# Note: Run this cell without any changes. The model will train if the implementation of subtask (ii) is correct.\n",
    "random_forest_model = RandomForest(n_trees=100, max_samples=20000,max_depth=10,min_node_size=1, max_features=2 )\n",
    "random_forest_model.train(train_X, train_y)"
   ]
  },
  {
   "attachments": {},
   "cell_type": "markdown",
   "metadata": {},
   "source": [
    "   iv\\. Calculate the accuracy of the model using the test dataset and compare your results with the\n",
    "RandomForestClassifier from the scikit-learn library using the following parameters."
   ]
  },
  {
   "cell_type": "code",
   "execution_count": 6,
   "metadata": {},
   "outputs": [
    {
     "name": "stdout",
     "output_type": "stream",
     "text": [
      "Custom Random Forest Accuracy: 0.78\n"
     ]
    },
    {
     "name": "stderr",
     "output_type": "stream",
     "text": [
      "C:\\Users\\Khaled\\AppData\\Local\\Temp\\ipykernel_26992\\769719147.py:50: FutureWarning: Unlike other reduction functions (e.g. `skew`, `kurtosis`), the default behavior of `mode` typically preserves the axis it acts along. In SciPy 1.11.0, this behavior will change: the default value of `keepdims` will become False, the `axis` over which the statistic is taken will be eliminated, and the value None will no longer be accepted. Set `keepdims` to True or False to avoid this warning.\n",
      "  final_predictions = mode(predictions, axis=0).mode[0]\n"
     ]
    }
   ],
   "source": [
    "# TODO Run predict for test data and calculate accuracy\n",
    "from sklearn.metrics import accuracy_score\n",
    "custom_rf_predictions = random_forest_model.predict(test_X)\n",
    "custom_rf_accuracy = accuracy_score(test_y, custom_rf_predictions)\n",
    "print(f\"Custom Random Forest Accuracy: {custom_rf_accuracy:.2f}\")"
   ]
  },
  {
   "cell_type": "code",
   "execution_count": 7,
   "metadata": {},
   "outputs": [
    {
     "name": "stdout",
     "output_type": "stream",
     "text": [
      "Scikit-learn Random Forest Accuracy: 0.81\n"
     ]
    }
   ],
   "source": [
    "# TODO: Train and predict using scikit-learn library\n",
    "from sklearn.ensemble import RandomForestClassifier\n",
    "from sklearn.metrics import accuracy_score\n",
    "\n",
    "# Parameters for the Random Forest\n",
    "n_trees = 100\n",
    "max_features = 2\n",
    "max_depth = 10\n",
    "min_samples_split = 2\n",
    "\n",
    "# Train scikit-learn's Random Forest\n",
    "sklearn_rf = RandomForestClassifier(\n",
    "    n_estimators=n_trees,\n",
    "    max_features=max_features,\n",
    "    max_depth=max_depth,\n",
    "    min_samples_split=min_samples_split,\n",
    "    random_state=42\n",
    ")\n",
    "\n",
    "# Train the model\n",
    "sklearn_rf.fit(train_X, train_y)\n",
    "\n",
    "# Make predictions on the test set\n",
    "sklearn_rf_predictions = sklearn_rf.predict(test_X)\n",
    "\n",
    "# Calculate accuracy\n",
    "sklearn_rf_accuracy = accuracy_score(test_y, sklearn_rf_predictions)\n",
    "print(f\"Scikit-learn Random Forest Accuracy: {sklearn_rf_accuracy:.2f}\")"
   ]
  },
  {
   "cell_type": "code",
   "execution_count": null,
   "metadata": {},
   "outputs": [],
   "source": []
  }
 ],
 "metadata": {
  "kernel_info": {
   "name": "python3"
  },
  "kernelspec": {
   "display_name": "Python 3 (ipykernel)",
   "language": "python",
   "name": "python3"
  },
  "language_info": {
   "codemirror_mode": {
    "name": "ipython",
    "version": 3
   },
   "file_extension": ".py",
   "mimetype": "text/x-python",
   "name": "python",
   "nbconvert_exporter": "python",
   "pygments_lexer": "ipython3",
   "version": "3.8.1"
  },
  "nteract": {
   "version": "0.15.0"
  },
  "vscode": {
   "interpreter": {
    "hash": "7c617624a7fd88b4018bd9e75be0d58c4afb6a334791d511af9b9a5162b5af2b"
   }
  }
 },
 "nbformat": 4,
 "nbformat_minor": 4
}
